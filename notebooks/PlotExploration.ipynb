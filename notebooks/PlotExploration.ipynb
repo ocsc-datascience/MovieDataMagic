{
 "cells": [
  {
   "cell_type": "code",
   "execution_count": 53,
   "metadata": {
    "collapsed": true
   },
   "outputs": [],
   "source": [
    "%matplotlib inline\n",
    "import pandas as pd \n",
    "import numpy as np\n",
    "import matplotlib.pyplot as plt"
   ]
  },
  {
   "cell_type": "code",
   "execution_count": 54,
   "metadata": {},
   "outputs": [],
   "source": [
    "# read the data\n",
    "df = pd.read_csv('../data/all_movies_with_twitter_and_ratings.csv')"
   ]
  },
  {
   "cell_type": "code",
   "execution_count": 55,
   "metadata": {},
   "outputs": [
    {
     "name": "stdout",
     "output_type": "stream",
     "text": [
      "We've got 283 good movie entries with ratings!\n"
     ]
    }
   ],
   "source": [
    "# Fix the entry for the movie \"12 Strongs\" -- the data collection script failed\n",
    "# and we didn't want to re-run for one Movie. We just looked it up.\n",
    "df.loc[df['movie_title']=='12 Strongs','critics_rating'] = 54\n",
    "df.loc[df['movie_title']=='12 Strongs','audience_rating'] = 64\n",
    "\n",
    "\n",
    "# a bit more data cleaninng -- throw out movies without rating\n",
    "# or with -1 rating (there are only a few)\n",
    "df = df[ df['critics_rating'] > -0.5 ]\n",
    "df = df[ df['audience_rating'] > -0.5 ]\n",
    "\n",
    "print(f\"We've got {len(df)} good movie entries with ratings!\")"
   ]
  },
  {
   "cell_type": "code",
   "execution_count": 56,
   "metadata": {},
   "outputs": [],
   "source": [
    "# More data prep, convert data types\n",
    "\n",
    "# Make a float out of opening weekend box office\n",
    "df.loc[:,['opening_weekend_count']] = \\\n",
    "     df['opening_weekend_count'].apply(lambda x: float( x.replace('$','').replace(',','') )\\\n",
    "                                       if type(x) is str else -1.0)\n",
    "    \n",
    "                                       \n",
    "                                       \n",
    "                                       #    if type(x) is not float else -1.0)\n",
    "            "
   ]
  },
  {
   "cell_type": "code",
   "execution_count": 57,
   "metadata": {},
   "outputs": [
    {
     "data": {
      "text/html": [
       "<div>\n",
       "<style>\n",
       "    .dataframe thead tr:only-child th {\n",
       "        text-align: right;\n",
       "    }\n",
       "\n",
       "    .dataframe thead th {\n",
       "        text-align: left;\n",
       "    }\n",
       "\n",
       "    .dataframe tbody tr th {\n",
       "        vertical-align: top;\n",
       "    }\n",
       "</style>\n",
       "<table border=\"1\" class=\"dataframe\">\n",
       "  <thead>\n",
       "    <tr style=\"text-align: right;\">\n",
       "      <th></th>\n",
       "      <th>row</th>\n",
       "      <th>rank</th>\n",
       "      <th>movie_title</th>\n",
       "      <th>studio</th>\n",
       "      <th>total_gross</th>\n",
       "      <th>total_theater</th>\n",
       "      <th>opening_weekend_count</th>\n",
       "      <th>opening_theater_count</th>\n",
       "      <th>release_date</th>\n",
       "      <th>close_date</th>\n",
       "      <th>twitter1</th>\n",
       "      <th>twitter2</th>\n",
       "      <th>twitter3</th>\n",
       "      <th>twitter4</th>\n",
       "      <th>twitter5</th>\n",
       "      <th>RT_title</th>\n",
       "      <th>critics_rating</th>\n",
       "      <th>audience_rating</th>\n",
       "    </tr>\n",
       "  </thead>\n",
       "  <tbody>\n",
       "    <tr>\n",
       "      <th>0</th>\n",
       "      <td>0</td>\n",
       "      <td>90</td>\n",
       "      <td>Eighth Grade</td>\n",
       "      <td>A24</td>\n",
       "      <td>$1,648,837</td>\n",
       "      <td>158</td>\n",
       "      <td>263797.0</td>\n",
       "      <td>4</td>\n",
       "      <td>8/3/18</td>\n",
       "      <td>-</td>\n",
       "      <td>EighthGrade</td>\n",
       "      <td>NaN</td>\n",
       "      <td>NaN</td>\n",
       "      <td>NaN</td>\n",
       "      <td>NaN</td>\n",
       "      <td>Eighth_Grade</td>\n",
       "      <td>99.0</td>\n",
       "      <td>89.0</td>\n",
       "    </tr>\n",
       "    <tr>\n",
       "      <th>1</th>\n",
       "      <td>1</td>\n",
       "      <td>57</td>\n",
       "      <td>Mission: Impossible - Fallout</td>\n",
       "      <td>Par.</td>\n",
       "      <td>$23,000,000</td>\n",
       "      <td>4,386</td>\n",
       "      <td>-1.0</td>\n",
       "      <td>4,386</td>\n",
       "      <td>7/27/18</td>\n",
       "      <td>-</td>\n",
       "      <td>MissionImpossible</td>\n",
       "      <td>MissionImpossibleFallout</td>\n",
       "      <td>NaN</td>\n",
       "      <td>NaN</td>\n",
       "      <td>NaN</td>\n",
       "      <td>Mission_Impossible_Fallout</td>\n",
       "      <td>97.0</td>\n",
       "      <td>92.0</td>\n",
       "    </tr>\n",
       "    <tr>\n",
       "      <th>2</th>\n",
       "      <td>2</td>\n",
       "      <td>84</td>\n",
       "      <td>Teen Titans Go! To The Movies</td>\n",
       "      <td>WB</td>\n",
       "      <td>$4,250,000</td>\n",
       "      <td>3,188</td>\n",
       "      <td>-1.0</td>\n",
       "      <td>3,188</td>\n",
       "      <td>7/27/18</td>\n",
       "      <td>-</td>\n",
       "      <td>TeenTitansGOMovie</td>\n",
       "      <td>NaN</td>\n",
       "      <td>NaN</td>\n",
       "      <td>NaN</td>\n",
       "      <td>NaN</td>\n",
       "      <td>Teen_Titans_Go_To_The_Movies</td>\n",
       "      <td>90.0</td>\n",
       "      <td>72.0</td>\n",
       "    </tr>\n",
       "    <tr>\n",
       "      <th>4</th>\n",
       "      <td>4</td>\n",
       "      <td>22</td>\n",
       "      <td>Mamma Mia! Here We Go Again</td>\n",
       "      <td>Uni.</td>\n",
       "      <td>$60,227,525</td>\n",
       "      <td>3,514</td>\n",
       "      <td>34952180.0</td>\n",
       "      <td>3,317</td>\n",
       "      <td>7/20/18</td>\n",
       "      <td>-</td>\n",
       "      <td>MammaMia2</td>\n",
       "      <td>NaN</td>\n",
       "      <td>NaN</td>\n",
       "      <td>NaN</td>\n",
       "      <td>NaN</td>\n",
       "      <td>Mamma_Mia_Here_We_Go_Again</td>\n",
       "      <td>79.0</td>\n",
       "      <td>76.0</td>\n",
       "    </tr>\n",
       "    <tr>\n",
       "      <th>5</th>\n",
       "      <td>5</td>\n",
       "      <td>28</td>\n",
       "      <td>The Equalizer 2</td>\n",
       "      <td>Sony</td>\n",
       "      <td>$54,241,345</td>\n",
       "      <td>3,388</td>\n",
       "      <td>36011640.0</td>\n",
       "      <td>3,388</td>\n",
       "      <td>7/20/18</td>\n",
       "      <td>-</td>\n",
       "      <td>TheEqualizer2</td>\n",
       "      <td>NaN</td>\n",
       "      <td>NaN</td>\n",
       "      <td>NaN</td>\n",
       "      <td>NaN</td>\n",
       "      <td>The_Equalizer_2</td>\n",
       "      <td>50.0</td>\n",
       "      <td>74.0</td>\n",
       "    </tr>\n",
       "  </tbody>\n",
       "</table>\n",
       "</div>"
      ],
      "text/plain": [
       "   row  rank                    movie_title studio  total_gross total_theater  \\\n",
       "0    0    90                   Eighth Grade    A24   $1,648,837           158   \n",
       "1    1    57  Mission: Impossible - Fallout   Par.  $23,000,000         4,386   \n",
       "2    2    84  Teen Titans Go! To The Movies     WB   $4,250,000         3,188   \n",
       "4    4    22    Mamma Mia! Here We Go Again   Uni.  $60,227,525         3,514   \n",
       "5    5    28                The Equalizer 2   Sony  $54,241,345         3,388   \n",
       "\n",
       "   opening_weekend_count opening_theater_count release_date close_date  \\\n",
       "0               263797.0                     4       8/3/18          -   \n",
       "1                   -1.0                 4,386      7/27/18          -   \n",
       "2                   -1.0                 3,188      7/27/18          -   \n",
       "4             34952180.0                 3,317      7/20/18          -   \n",
       "5             36011640.0                 3,388      7/20/18          -   \n",
       "\n",
       "            twitter1                  twitter2 twitter3  twitter4  twitter5  \\\n",
       "0        EighthGrade                       NaN      NaN       NaN       NaN   \n",
       "1  MissionImpossible  MissionImpossibleFallout      NaN       NaN       NaN   \n",
       "2  TeenTitansGOMovie                       NaN      NaN       NaN       NaN   \n",
       "4          MammaMia2                       NaN      NaN       NaN       NaN   \n",
       "5      TheEqualizer2                       NaN      NaN       NaN       NaN   \n",
       "\n",
       "                       RT_title  critics_rating  audience_rating  \n",
       "0                  Eighth_Grade            99.0             89.0  \n",
       "1    Mission_Impossible_Fallout            97.0             92.0  \n",
       "2  Teen_Titans_Go_To_The_Movies            90.0             72.0  \n",
       "4    Mamma_Mia_Here_We_Go_Again            79.0             76.0  \n",
       "5               The_Equalizer_2            50.0             74.0  "
      ]
     },
     "execution_count": 57,
     "metadata": {},
     "output_type": "execute_result"
    }
   ],
   "source": [
    "df.head(5)"
   ]
  },
  {
   "cell_type": "code",
   "execution_count": 60,
   "metadata": {},
   "outputs": [
    {
     "name": "stderr",
     "output_type": "stream",
     "text": [
      "/Users/cott/venvs/myvenvpy3/lib/python3.6/site-packages/ipykernel_launcher.py:4: RuntimeWarning: invalid value encountered in log10\n",
      "  after removing the cwd from sys.path.\n"
     ]
    },
    {
     "data": {
      "text/plain": [
       "<matplotlib.collections.PathCollection at 0x115ba3320>"
      ]
     },
     "execution_count": 60,
     "metadata": {},
     "output_type": "execute_result"
    },
    {
     "data": {
      "image/png": "[encoded data removed]",
      "text/plain": [
       "<matplotlib.figure.Figure at 0x115992518>"
      ]
     },
     "metadata": {},
     "output_type": "display_data"
    }
   ],
   "source": [
    "xfig = plt.figure(figsize=(12,10))\n",
    "xx = df['opening_weekend_count']\n",
    "yy = df['critics_rating']\n",
    "plt.scatter(np.log10(xx),yy)"
   ]
  },
  {
   "cell_type": "code",
   "execution_count": 63,
   "metadata": {},
   "outputs": [
    {
     "name": "stderr",
     "output_type": "stream",
     "text": [
      "/Users/cott/venvs/myvenvpy3/lib/python3.6/site-packages/ipykernel_launcher.py:4: RuntimeWarning: invalid value encountered in log10\n",
      "  after removing the cwd from sys.path.\n"
     ]
    },
    {
     "data": {
      "text/plain": [
       "<matplotlib.collections.PathCollection at 0x1162319b0>"
      ]
     },
     "execution_count": 63,
     "metadata": {},
     "output_type": "execute_result"
    },
    {
     "data": {
      "image/png": "[encoded data removed]",
      "text/plain": [
       "<matplotlib.figure.Figure at 0x116013b70>"
      ]
     },
     "metadata": {},
     "output_type": "display_data"
    }
   ],
   "source": [
    "xfig = plt.figure(figsize=(12,10))\n",
    "xx = df['opening_weekend_count']\n",
    "yy = df['audience_rating']\n",
    "plt.scatter(np.log10(xx),yy)"
   ]
  },
  {
   "cell_type": "code",
   "execution_count": null,
   "metadata": {
    "collapsed": true
   },
   "outputs": [],
   "source": []
  }
 ],
 "metadata": {
  "kernelspec": {
   "display_name": "Python 3",
   "language": "python",
   "name": "python3"
  },
  "language_info": {
   "codemirror_mode": {
    "name": "ipython",
    "version": 3
   },
   "file_extension": ".py",
   "mimetype": "text/x-python",
   "name": "python",
   "nbconvert_exporter": "python",
   "pygments_lexer": "ipython3",
   "version": "3.6.2"
  }
 },
 "nbformat": 4,
 "nbformat_minor": 2
}
